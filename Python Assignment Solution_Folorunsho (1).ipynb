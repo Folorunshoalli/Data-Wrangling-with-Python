{
 "cells": [
  {
   "cell_type": "markdown",
   "metadata": {},
   "source": [
    "># Python Programming Assignment \n",
    "\n",
    "Start Date : \n",
    "\n",
    "* Marks Weight = \n",
    "** Total Marks = 100 \n",
    "* Due Date = \n",
    "> ## Data Cleaning and Basic Plotting\n",
    "\n",
    "BA Program\n",
    "\n",
    "* **Student Name** : Alli Folorunsho\n",
    "* **Student ID** : 8905943"
   ]
  },
  {
   "cell_type": "markdown",
   "metadata": {},
   "source": [
    "## Q1) \n",
    "\n",
    "Download the file \"BA Program Assignment 3 - Data Cleaning.xlsx”  .  Use appropriate data cleaning techniques and methods in Pandas to convert the raw file into  clean data structure ” as shown in the reference file \"Your Assignment3 output file should look like this.xlsx\" and answer the questions below. \n",
    "\n",
    "Your answers should be accurate.  All cleaning and manipulation should be done in Python only. Be careful for subtotals in the data to avoid double counting. **(50 marks)**\n",
    "\n",
    "\n",
    "\n",
    "### Paste your cleaning code to convert the raw file to the clean file below , "
   ]
  },
  {
   "cell_type": "code",
   "execution_count": 53,
   "metadata": {
    "scrolled": false
   },
   "outputs": [
    {
     "data": {
      "text/html": [
       "<div>\n",
       "<style scoped>\n",
       "    .dataframe tbody tr th:only-of-type {\n",
       "        vertical-align: middle;\n",
       "    }\n",
       "\n",
       "    .dataframe tbody tr th {\n",
       "        vertical-align: top;\n",
       "    }\n",
       "\n",
       "    .dataframe thead th {\n",
       "        text-align: right;\n",
       "    }\n",
       "</style>\n",
       "<table border=\"1\" class=\"dataframe\">\n",
       "  <thead>\n",
       "    <tr style=\"text-align: right;\">\n",
       "      <th></th>\n",
       "      <th>Player Code</th>\n",
       "      <th>Player Name</th>\n",
       "      <th>Match Number</th>\n",
       "      <th>Number of Wickets Taken</th>\n",
       "      <th>NaN</th>\n",
       "      <th>Number of Runs</th>\n",
       "    </tr>\n",
       "  </thead>\n",
       "  <tbody>\n",
       "    <tr>\n",
       "      <th>1</th>\n",
       "      <td>45234</td>\n",
       "      <td>Maud Nicholson</td>\n",
       "      <td>M1</td>\n",
       "      <td>2</td>\n",
       "      <td>NaN</td>\n",
       "      <td>82</td>\n",
       "    </tr>\n",
       "    <tr>\n",
       "      <th>2</th>\n",
       "      <td>45234</td>\n",
       "      <td>Maud Nicholson</td>\n",
       "      <td>M3</td>\n",
       "      <td>3</td>\n",
       "      <td>NaN</td>\n",
       "      <td>71</td>\n",
       "    </tr>\n",
       "    <tr>\n",
       "      <th>3</th>\n",
       "      <td>45234</td>\n",
       "      <td>Maud Nicholson</td>\n",
       "      <td>M5</td>\n",
       "      <td>0</td>\n",
       "      <td>NaN</td>\n",
       "      <td>36</td>\n",
       "    </tr>\n",
       "    <tr>\n",
       "      <th>4</th>\n",
       "      <td>45234</td>\n",
       "      <td>Maud Nicholson</td>\n",
       "      <td>M6</td>\n",
       "      <td>1</td>\n",
       "      <td>NaN</td>\n",
       "      <td>76</td>\n",
       "    </tr>\n",
       "    <tr>\n",
       "      <th>5</th>\n",
       "      <td>4578</td>\n",
       "      <td>Logan Thomas</td>\n",
       "      <td>M1</td>\n",
       "      <td>0</td>\n",
       "      <td>NaN</td>\n",
       "      <td>4</td>\n",
       "    </tr>\n",
       "    <tr>\n",
       "      <th>6</th>\n",
       "      <td>4578</td>\n",
       "      <td>Logan Thomas</td>\n",
       "      <td>M3</td>\n",
       "      <td>1</td>\n",
       "      <td>NaN</td>\n",
       "      <td>38</td>\n",
       "    </tr>\n",
       "    <tr>\n",
       "      <th>7</th>\n",
       "      <td>4545</td>\n",
       "      <td>Avaya Burris</td>\n",
       "      <td>M1</td>\n",
       "      <td>0</td>\n",
       "      <td>NaN</td>\n",
       "      <td>57</td>\n",
       "    </tr>\n",
       "    <tr>\n",
       "      <th>8</th>\n",
       "      <td>4545</td>\n",
       "      <td>Avaya Burris</td>\n",
       "      <td>M3</td>\n",
       "      <td>0</td>\n",
       "      <td>NaN</td>\n",
       "      <td>76</td>\n",
       "    </tr>\n",
       "    <tr>\n",
       "      <th>9</th>\n",
       "      <td>4545</td>\n",
       "      <td>Avaya Burris</td>\n",
       "      <td>M5</td>\n",
       "      <td>0</td>\n",
       "      <td>NaN</td>\n",
       "      <td>28</td>\n",
       "    </tr>\n",
       "    <tr>\n",
       "      <th>10</th>\n",
       "      <td>4456</td>\n",
       "      <td>Marlie Stacey</td>\n",
       "      <td>M1</td>\n",
       "      <td>0</td>\n",
       "      <td>NaN</td>\n",
       "      <td>87</td>\n",
       "    </tr>\n",
       "    <tr>\n",
       "      <th>11</th>\n",
       "      <td>4456</td>\n",
       "      <td>Marlie Stacey</td>\n",
       "      <td>M3</td>\n",
       "      <td>4</td>\n",
       "      <td>NaN</td>\n",
       "      <td>58</td>\n",
       "    </tr>\n",
       "    <tr>\n",
       "      <th>12</th>\n",
       "      <td>4456</td>\n",
       "      <td>Marlie Stacey</td>\n",
       "      <td>M5</td>\n",
       "      <td>0</td>\n",
       "      <td>NaN</td>\n",
       "      <td>100</td>\n",
       "    </tr>\n",
       "    <tr>\n",
       "      <th>13</th>\n",
       "      <td>4545</td>\n",
       "      <td>Onur Bateman</td>\n",
       "      <td>M1</td>\n",
       "      <td>0</td>\n",
       "      <td>NaN</td>\n",
       "      <td>21</td>\n",
       "    </tr>\n",
       "    <tr>\n",
       "      <th>14</th>\n",
       "      <td>4447</td>\n",
       "      <td>Lyle Mullen</td>\n",
       "      <td>M1</td>\n",
       "      <td>4</td>\n",
       "      <td>NaN</td>\n",
       "      <td>58</td>\n",
       "    </tr>\n",
       "    <tr>\n",
       "      <th>15</th>\n",
       "      <td>4447</td>\n",
       "      <td>Lyle Mullen</td>\n",
       "      <td>M3</td>\n",
       "      <td>4</td>\n",
       "      <td>NaN</td>\n",
       "      <td>38</td>\n",
       "    </tr>\n",
       "    <tr>\n",
       "      <th>16</th>\n",
       "      <td>4447</td>\n",
       "      <td>Lyle Mullen</td>\n",
       "      <td>M5</td>\n",
       "      <td>2</td>\n",
       "      <td>NaN</td>\n",
       "      <td>98</td>\n",
       "    </tr>\n",
       "    <tr>\n",
       "      <th>17</th>\n",
       "      <td>23256</td>\n",
       "      <td>Lea Driscoll</td>\n",
       "      <td>M1</td>\n",
       "      <td>3</td>\n",
       "      <td>NaN</td>\n",
       "      <td>72</td>\n",
       "    </tr>\n",
       "    <tr>\n",
       "      <th>18</th>\n",
       "      <td>4564</td>\n",
       "      <td>Kaylee Pitt</td>\n",
       "      <td>M1</td>\n",
       "      <td>2</td>\n",
       "      <td>NaN</td>\n",
       "      <td>58</td>\n",
       "    </tr>\n",
       "    <tr>\n",
       "      <th>19</th>\n",
       "      <td>4564</td>\n",
       "      <td>Kaylee Pitt</td>\n",
       "      <td>M3</td>\n",
       "      <td>2</td>\n",
       "      <td>NaN</td>\n",
       "      <td>82</td>\n",
       "    </tr>\n",
       "    <tr>\n",
       "      <th>20</th>\n",
       "      <td>4564</td>\n",
       "      <td>Kaylee Pitt</td>\n",
       "      <td>M5</td>\n",
       "      <td>4</td>\n",
       "      <td>NaN</td>\n",
       "      <td>18</td>\n",
       "    </tr>\n",
       "  </tbody>\n",
       "</table>\n",
       "</div>"
      ],
      "text/plain": [
       "0  Player Code     Player Name Match Number Number of Wickets Taken  NaN  \\\n",
       "1        45234  Maud Nicholson           M1                       2  NaN   \n",
       "2        45234  Maud Nicholson           M3                       3  NaN   \n",
       "3        45234  Maud Nicholson           M5                       0  NaN   \n",
       "4        45234  Maud Nicholson           M6                       1  NaN   \n",
       "5         4578    Logan Thomas           M1                       0  NaN   \n",
       "6         4578    Logan Thomas           M3                       1  NaN   \n",
       "7         4545    Avaya Burris           M1                       0  NaN   \n",
       "8         4545    Avaya Burris           M3                       0  NaN   \n",
       "9         4545    Avaya Burris           M5                       0  NaN   \n",
       "10        4456   Marlie Stacey           M1                       0  NaN   \n",
       "11        4456   Marlie Stacey           M3                       4  NaN   \n",
       "12        4456   Marlie Stacey           M5                       0  NaN   \n",
       "13        4545    Onur Bateman           M1                       0  NaN   \n",
       "14        4447     Lyle Mullen           M1                       4  NaN   \n",
       "15        4447     Lyle Mullen           M3                       4  NaN   \n",
       "16        4447     Lyle Mullen           M5                       2  NaN   \n",
       "17       23256    Lea Driscoll           M1                       3  NaN   \n",
       "18        4564     Kaylee Pitt           M1                       2  NaN   \n",
       "19        4564     Kaylee Pitt           M3                       2  NaN   \n",
       "20        4564     Kaylee Pitt           M5                       4  NaN   \n",
       "\n",
       "0  Number of Runs  \n",
       "1              82  \n",
       "2              71  \n",
       "3              36  \n",
       "4              76  \n",
       "5               4  \n",
       "6              38  \n",
       "7              57  \n",
       "8              76  \n",
       "9              28  \n",
       "10             87  \n",
       "11             58  \n",
       "12            100  \n",
       "13             21  \n",
       "14             58  \n",
       "15             38  \n",
       "16             98  \n",
       "17             72  \n",
       "18             58  \n",
       "19             82  \n",
       "20             18  "
      ]
     },
     "execution_count": 53,
     "metadata": {},
     "output_type": "execute_result"
    }
   ],
   "source": [
    "import pandas as pd\n",
    "import numpy as np\n",
    "import seaborn as sns\n",
    "import matplotlib.pyplot as plt\n",
    "\n",
    "df = pd.read_excel('BA Program Assignment 3 - Data Cleaning.xlsx')\n",
    "\n",
    "#remove all the spaces for the entire table\n",
    "df = df.applymap(lambda x: x.strip() if isinstance(x, str) else x)\n",
    "\n",
    "# Drop the previous column headers\n",
    "df = df.drop([0,1,2,4]).reset_index(drop=True)\n",
    "\n",
    "# Set the fourth row as the column headers\n",
    "df.columns = df.iloc[0]\n",
    "df = df[1:].reset_index(drop=True)\n",
    "\n",
    "#drop every single empty row\n",
    "df = df.dropna(how='all')\n",
    "df.reset_index(drop=True, inplace=True)\n",
    "\n",
    "#removing the spaces before and and after each column entry\n",
    "df.columns = df.columns.str.strip()\n",
    "\n",
    "# Drop rows based on conditions\n",
    "df = df[~df['Player Name'].isin(['Gran Total Stats of All the above players', 'Player Runs Total', 'Total Player Runs'])].reset_index(drop=True)\n",
    "\n",
    "#fill down to complete the empty cells\n",
    "df['Player Name'].fillna(method='ffill', inplace=True), df['Player Code'].fillna(method='ffill', inplace=True)\n",
    "\n",
    "#some rows did not fill down, so they were converted to NaN before the fill was applied\n",
    "df['Player Name'].replace('', np.nan, inplace=True), df['Player Name'].fillna(method='ffill', inplace=True)\n",
    "\n",
    "#reset the index and convert to integer for the wickets column\n",
    "df = df.reset_index(drop=True)\n",
    "df.index = df.index + 1\n",
    "df.head(20)"
   ]
  },
  {
   "cell_type": "markdown",
   "metadata": {},
   "source": [
    "\n",
    "#### Write the full code that lead to the answer of each of the following questions in the single cell below each question."
   ]
  },
  {
   "cell_type": "markdown",
   "metadata": {},
   "source": [
    "## Q2) What is the grand total number of wickets taken by all the players ? \n",
    "**10 marks**"
   ]
  },
  {
   "cell_type": "code",
   "execution_count": 54,
   "metadata": {},
   "outputs": [
    {
     "data": {
      "text/plain": [
       "268"
      ]
     },
     "execution_count": 54,
     "metadata": {},
     "output_type": "execute_result"
    }
   ],
   "source": [
    "grand_total_wickets = df['Number of Wickets Taken'].sum()\n",
    "grand_total_wickets"
   ]
  },
  {
   "cell_type": "markdown",
   "metadata": {},
   "source": [
    "## Q3) What is the total number of runs made in *each* match (M1 till M8) ? \n",
    "**10 marks**"
   ]
  },
  {
   "cell_type": "code",
   "execution_count": 55,
   "metadata": {},
   "outputs": [
    {
     "data": {
      "text/plain": [
       "Match Number\n",
       "M1    3623\n",
       "M2     259\n",
       "M3    2309\n",
       "M4      19\n",
       "M5    1124\n",
       "M6      83\n",
       "M7      68\n",
       "M8      31\n",
       "Name: Number of Runs, dtype: object"
      ]
     },
     "execution_count": 55,
     "metadata": {},
     "output_type": "execute_result"
    }
   ],
   "source": [
    "total_runs_per_match = df.groupby('Match Number')['Number of Runs'].sum()\n",
    "total_runs_per_match"
   ]
  },
  {
   "cell_type": "markdown",
   "metadata": {},
   "source": [
    "## Q4) Show the average number of runs made in each Match (M1 till M8)  using a bar graph. \n",
    "**10 marks**"
   ]
  },
  {
   "cell_type": "code",
   "execution_count": 33,
   "metadata": {},
   "outputs": [
    {
     "data": {
      "image/png": "[encoded data removed]",
      "text/plain": [
       "<Figure size 432x288 with 1 Axes>"
      ]
     },
     "metadata": {
      "needs_background": "light"
     },
     "output_type": "display_data"
    }
   ],
   "source": [
    "average_runs_per_match = df.groupby('Match Number')['Number of Runs'].mean()\n",
    "\n",
    "# Create a bar graph\n",
    "plt.bar(average_runs_per_match.index, average_runs_per_match.values)\n",
    "\n",
    "# Add labels and title\n",
    "plt.xlabel('Match Number')\n",
    "plt.ylabel('Average Number of Runs')\n",
    "plt.title('Average Number of Runs per Match')\n",
    "\n",
    "# Display the bar graph\n",
    "plt.show()"
   ]
  },
  {
   "cell_type": "markdown",
   "metadata": {},
   "source": [
    "## Q5) Import the tips dataset from seaborn package and complete the parts below , \n",
    "5a) Find out the correlation between total bill, tip and size column using appropriate data frame method. \n",
    "\n",
    "5b) Show the result of question 4 in a form of a seaborn package heatmap. \n",
    "\n",
    "**20 marks**"
   ]
  },
  {
   "cell_type": "code",
   "execution_count": 35,
   "metadata": {},
   "outputs": [],
   "source": [
    "tips = sns.load_dataset('tips')"
   ]
  },
  {
   "cell_type": "code",
   "execution_count": 44,
   "metadata": {},
   "outputs": [
    {
     "data": {
      "text/html": [
       "<div>\n",
       "<style scoped>\n",
       "    .dataframe tbody tr th:only-of-type {\n",
       "        vertical-align: middle;\n",
       "    }\n",
       "\n",
       "    .dataframe tbody tr th {\n",
       "        vertical-align: top;\n",
       "    }\n",
       "\n",
       "    .dataframe thead th {\n",
       "        text-align: right;\n",
       "    }\n",
       "</style>\n",
       "<table border=\"1\" class=\"dataframe\">\n",
       "  <thead>\n",
       "    <tr style=\"text-align: right;\">\n",
       "      <th></th>\n",
       "      <th>total_bill</th>\n",
       "      <th>tip</th>\n",
       "      <th>size</th>\n",
       "    </tr>\n",
       "  </thead>\n",
       "  <tbody>\n",
       "    <tr>\n",
       "      <th>total_bill</th>\n",
       "      <td>1.000000</td>\n",
       "      <td>0.675734</td>\n",
       "      <td>0.598315</td>\n",
       "    </tr>\n",
       "    <tr>\n",
       "      <th>tip</th>\n",
       "      <td>0.675734</td>\n",
       "      <td>1.000000</td>\n",
       "      <td>0.489299</td>\n",
       "    </tr>\n",
       "    <tr>\n",
       "      <th>size</th>\n",
       "      <td>0.598315</td>\n",
       "      <td>0.489299</td>\n",
       "      <td>1.000000</td>\n",
       "    </tr>\n",
       "  </tbody>\n",
       "</table>\n",
       "</div>"
      ],
      "text/plain": [
       "            total_bill       tip      size\n",
       "total_bill    1.000000  0.675734  0.598315\n",
       "tip           0.675734  1.000000  0.489299\n",
       "size          0.598315  0.489299  1.000000"
      ]
     },
     "execution_count": 44,
     "metadata": {},
     "output_type": "execute_result"
    }
   ],
   "source": [
    "#correlation between total_bill, tip, and size\n",
    "correlation = tips[['total_bill', 'tip', 'size']].corr()\n",
    "\n",
    "# Print the correlation matrix\n",
    "correlation"
   ]
  },
  {
   "cell_type": "code",
   "execution_count": 37,
   "metadata": {},
   "outputs": [
    {
     "data": {
      "image/png": "[encoded data removed]",
      "text/plain": [
       "<Figure size 432x288 with 2 Axes>"
      ]
     },
     "metadata": {
      "needs_background": "light"
     },
     "output_type": "display_data"
    }
   ],
   "source": [
    "#Heatmap of the correlation matrix\n",
    "sns.heatmap(correlation, annot=True, cmap='coolwarm')\n",
    "\n",
    "# Title\n",
    "plt.title('Correlation Matrix')\n",
    "\n",
    "plt.show()"
   ]
  },
  {
   "cell_type": "code",
   "execution_count": null,
   "metadata": {},
   "outputs": [],
   "source": []
  }
 ],
 "metadata": {
  "kernelspec": {
   "display_name": "Python 3 (ipykernel)",
   "language": "python",
   "name": "python3"
  },
  "language_info": {
   "codemirror_mode": {
    "name": "ipython",
    "version": 3
   },
   "file_extension": ".py",
   "mimetype": "text/x-python",
   "name": "python",
   "nbconvert_exporter": "python",
   "pygments_lexer": "ipython3",
   "version": "3.10.9"
  }
 },
 "nbformat": 4,
 "nbformat_minor": 2
}
